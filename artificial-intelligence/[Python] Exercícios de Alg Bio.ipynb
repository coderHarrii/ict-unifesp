{
 "cells": [
  {
   "cell_type": "markdown",
   "id": "cfba86ef",
   "metadata": {},
   "source": [
    "# Primeiros comandos"
   ]
  },
  {
   "cell_type": "markdown",
   "id": "aa094fcd",
   "metadata": {},
   "source": [
    "1) Crie um script em Python que solicite o nome, altura e peso de uma pessoa e mostre a seguinte mensagem: “João tem 90 kilos e altura de 1.78 e portanto o IMC é de 28.4”."
   ]
  },
  {
   "cell_type": "code",
   "execution_count": 1,
   "id": "427c7710",
   "metadata": {},
   "outputs": [
    {
     "name": "stdout",
     "output_type": "stream",
     "text": [
      "Insira o nome: João\n",
      "Insira a altura: 1.78\n",
      "Insira o peso: 90\n",
      "João  tem  90.0  kilos e altura de  1.78  e portanto o IMC é de  28.40550435551067\n"
     ]
    }
   ],
   "source": [
    "name = input(\"Insira o nome: \")\n",
    "height = float(input(\"Insira a altura: \"))\n",
    "weight = float(input(\"Insira o peso: \"))\n",
    "imc = weight/(height * height)\n",
    "\n",
    "print(name, \" tem \", weight, \" kilos e altura de \", height, \" e portanto o IMC é de \", imc)"
   ]
  },
  {
   "cell_type": "markdown",
   "id": "f80cde8d",
   "metadata": {},
   "source": [
    "2) Escreva um script que leia um valor em metros e o exiba convertido em milímetros"
   ]
  },
  {
   "cell_type": "code",
   "execution_count": 8,
   "id": "b7bcf93f",
   "metadata": {},
   "outputs": [
    {
     "data": {
      "text/plain": [
       "178000"
      ]
     },
     "execution_count": 8,
     "metadata": {},
     "output_type": "execute_result"
    }
   ],
   "source": [
    "metersValue = 1.78\n",
    "milimiterValue = metersValue * 1000 * 100\n",
    "int(milimiterValue)"
   ]
  },
  {
   "cell_type": "markdown",
   "id": "ed3f661d",
   "metadata": {},
   "source": [
    "3) Escreva um script que leia a quantidade de dias,horas, minutos e segundos para o usuário. Calcule o total em segundos."
   ]
  },
  {
   "cell_type": "code",
   "execution_count": 6,
   "id": "7cbb4797",
   "metadata": {},
   "outputs": [
    {
     "name": "stdout",
     "output_type": "stream",
     "text": [
      "Insira a quantidade de dias: 12\n",
      "Insira a quantidade de horas: 120\n",
      "Insira a quantidade de minutos: 15\n",
      "min:  900 hour:  432000 days:  17280\n"
     ]
    }
   ],
   "source": [
    "days = int(input(\"Insira a quantidade de dias: \"))\n",
    "hours = int(input(\"Insira a quantidade de horas: \"))\n",
    "min = int(input(\"Insira a quantidade de minutos: \"))\n",
    "\n",
    "x_min_sec = min * 60\n",
    "x_hour_min_sec = hours * 60 * 60\n",
    "x_days_sec = days * 24 * 60\n",
    "\n",
    "print(\"min: \", x_min_sec, \"hour: \", x_hour_min_sec, \"days: \", x_days_sec)"
   ]
  },
  {
   "cell_type": "markdown",
   "id": "16200347",
   "metadata": {},
   "source": [
    "4) Faça um script que calcule o aumento de salário. Ele deve solicitar o valor do salário e a porcentagem de aumento. Exiba o valor do aumento e do novo salário."
   ]
  },
  {
   "cell_type": "code",
   "execution_count": 7,
   "id": "28d54eae",
   "metadata": {},
   "outputs": [
    {
     "name": "stdout",
     "output_type": "stream",
     "text": [
      "Salary value: 1200\n",
      "Insira a taxa de aumento10\n",
      "Salário:  1320.0\n"
     ]
    }
   ],
   "source": [
    "sal = float(input(\"Salary value: \"))\n",
    "tax = float(input(\"Insira a taxa de aumento\"))\n",
    "\n",
    "sal = sal + (sal * tax/100)\n",
    "\n",
    "print(\"Salário: \", sal)"
   ]
  },
  {
   "cell_type": "markdown",
   "id": "490d80f3",
   "metadata": {},
   "source": [
    "5) Leia a temperatura em graus Celsius e converta para Fahrenheit."
   ]
  },
  {
   "cell_type": "code",
   "execution_count": 10,
   "id": "e1a55927",
   "metadata": {},
   "outputs": [
    {
     "name": "stdout",
     "output_type": "stream",
     "text": [
      "Temperature (Celsius): 0\n",
      "Fahrenheit:  32.0\n"
     ]
    }
   ],
   "source": [
    "C = float(input(\"Temperature (Celsius): \"))\n",
    "\n",
    "F = C * 1.8 + 32\n",
    "\n",
    "print(\"Fahrenheit: \", F)"
   ]
  },
  {
   "cell_type": "markdown",
   "id": "9d0a3221",
   "metadata": {},
   "source": [
    "# Loops e Condicionais\n",
    "\n",
    "1) Em química, o pH de uma solução aquosa é uma medida da sua acidez.Os Valores de pH variam entre 0 e 14. Soluções ácidas tem pH maior que 7. Soluções básicas tem pH menor que 7. Soluções neutras tem pH igual a 7. Escreva duas funções que recebem um número correspondente ao pH de uma solução aquosa e exibem na tela o tipo de solução (algo como “A solução é ácida”)."
   ]
  },
  {
   "cell_type": "code",
   "execution_count": 4,
   "id": "c3ea52cb",
   "metadata": {},
   "outputs": [
    {
     "name": "stdout",
     "output_type": "stream",
     "text": [
      "Diga o ph da solução10\n"
     ]
    },
    {
     "data": {
      "text/plain": [
       "'solução básica'"
      ]
     },
     "execution_count": 4,
     "metadata": {},
     "output_type": "execute_result"
    }
   ],
   "source": [
    "def wet_solution(pH):\n",
    "    if(pH < 7):\n",
    "        return \"solução ácida\"\n",
    "    if(pH == 7):\n",
    "        return \"solução neutra\"\n",
    "    return \"solução básica\"\n",
    "\n",
    "pH = float(input(\"Diga o ph da solução: \")) \n",
    "wet_solution(pH)"
   ]
  },
  {
   "cell_type": "markdown",
   "id": "f2675b08",
   "metadata": {},
   "source": [
    "2) Em um script, o usuário deve responder à pergunta “Continuar (s/n)?”. Se o usuário digitar ‘s’ ou ‘S’, o script deve retornar a mensagem “OK, continuando...”. Se o usuário digitar ‘n’ ou ‘N’, o script deve retornar a mensagem “OK, parando...”. Por fim, se o usuário digitar qualquer outra coisa, o script deve retornar uma mensagem de erro."
   ]
  },
  {
   "cell_type": "code",
   "execution_count": 8,
   "id": "483664b9",
   "metadata": {},
   "outputs": [
    {
     "name": "stdout",
     "output_type": "stream",
     "text": [
      "Continuar (s/n)? l\n",
      "Erro\n"
     ]
    }
   ],
   "source": [
    "contin = input(\"Continuar (s/n)? \")\n",
    "\n",
    "contin.lower()\n",
    "\n",
    "if(contin == 's'):\n",
    "    print(\"Ok, continuando...\")\n",
    "elif(contin == 'n'):\n",
    "    print(\"Ok, parando...\")\n",
    "else:\n",
    "    print(\"Erro\")"
   ]
  },
  {
   "cell_type": "markdown",
   "id": "075abfa3",
   "metadata": {},
   "source": [
    "3) Faça um programa para escrever a contagem regressiva do lançamento de um foguete. O programa deve imprimir 10, 9, 8, ..., 1, 0 e Fogo! na tela"
   ]
  },
  {
   "cell_type": "code",
   "execution_count": 11,
   "id": "1a623e52",
   "metadata": {},
   "outputs": [
    {
     "name": "stdout",
     "output_type": "stream",
     "text": [
      "10\n",
      "9\n",
      "8\n",
      "7\n",
      "6\n",
      "5\n",
      "4\n",
      "3\n",
      "2\n",
      "1\n",
      "Fogo!\n"
     ]
    }
   ],
   "source": [
    "cont = 10\n",
    "while cont != 0:\n",
    "    print(cont)\n",
    "    cont = cont - 1\n",
    "print(\"Fogo!\")"
   ]
  },
  {
   "cell_type": "code",
   "execution_count": 21,
   "id": "c8122e60",
   "metadata": {},
   "outputs": [
    {
     "name": "stdout",
     "output_type": "stream",
     "text": [
      "10\n",
      "9\n",
      "8\n",
      "7\n",
      "6\n",
      "5\n",
      "4\n",
      "3\n",
      "2\n",
      "Fogo!\n"
     ]
    }
   ],
   "source": [
    "for i in range(10, 1, -1):\n",
    "    print(i)\n",
    "print(\"Fogo!\")"
   ]
  },
  {
   "cell_type": "markdown",
   "id": "06b2530a",
   "metadata": {},
   "source": [
    "4) Crie um programa que imprima a sequência de Fibonacci até o décimo termo usando um loop for."
   ]
  },
  {
   "cell_type": "code",
   "execution_count": 20,
   "id": "21335ebb",
   "metadata": {},
   "outputs": [
    {
     "name": "stdout",
     "output_type": "stream",
     "text": [
      "1\n",
      "1\n",
      "2\n",
      "3\n",
      "5\n",
      "8\n",
      "13\n",
      "21\n",
      "34\n",
      "55\n"
     ]
    }
   ],
   "source": [
    "fibo = [1, 1, 2, 3, 5, 8, 13, 21, 34, 55]\n",
    "for f in fibo:\n",
    "    print(f)"
   ]
  },
  {
   "cell_type": "markdown",
   "id": "6edab9b3",
   "metadata": {},
   "source": [
    "5) Escreva um programa que encontre e imprima todos os números primos entre 1 e 100."
   ]
  },
  {
   "cell_type": "code",
   "execution_count": 4,
   "id": "22fb059c",
   "metadata": {},
   "outputs": [],
   "source": [
    "import math"
   ]
  },
  {
   "cell_type": "code",
   "execution_count": 12,
   "id": "d6a026cc",
   "metadata": {},
   "outputs": [
    {
     "name": "stdout",
     "output_type": "stream",
     "text": [
      "2\n",
      "É primo\n",
      "3\n",
      "É primo\n",
      "4\n",
      "É composto\n",
      "5\n",
      "É primo\n",
      "6\n",
      "É composto\n",
      "7\n",
      "É primo\n",
      "8\n",
      "É composto\n",
      "9\n",
      "É composto\n",
      "10\n",
      "É composto\n",
      "11\n",
      "É primo\n",
      "12\n",
      "É composto\n",
      "13\n",
      "É primo\n",
      "14\n",
      "É composto\n",
      "15\n",
      "É composto\n",
      "16\n",
      "É composto\n",
      "17\n",
      "É primo\n",
      "18\n",
      "É composto\n",
      "19\n",
      "É primo\n",
      "20\n",
      "É composto\n",
      "21\n",
      "É composto\n",
      "22\n",
      "É composto\n",
      "23\n",
      "É primo\n",
      "24\n",
      "É composto\n",
      "25\n",
      "É composto\n",
      "26\n",
      "É composto\n",
      "27\n",
      "É composto\n",
      "28\n",
      "É composto\n",
      "29\n",
      "É primo\n",
      "30\n",
      "É composto\n",
      "31\n",
      "É primo\n",
      "32\n",
      "É composto\n",
      "33\n",
      "É composto\n",
      "34\n",
      "É composto\n",
      "35\n",
      "É composto\n",
      "36\n",
      "É composto\n",
      "37\n",
      "É primo\n",
      "38\n",
      "É composto\n",
      "39\n",
      "É composto\n",
      "40\n",
      "É composto\n",
      "41\n",
      "É primo\n",
      "42\n",
      "É composto\n",
      "43\n",
      "É primo\n",
      "44\n",
      "É composto\n",
      "45\n",
      "É composto\n",
      "46\n",
      "É composto\n",
      "47\n",
      "É primo\n",
      "48\n",
      "É composto\n",
      "49\n",
      "É composto\n",
      "50\n",
      "É composto\n",
      "51\n",
      "É composto\n",
      "52\n",
      "É composto\n",
      "53\n",
      "É primo\n",
      "54\n",
      "É composto\n",
      "55\n",
      "É composto\n",
      "56\n",
      "É composto\n",
      "57\n",
      "É composto\n",
      "58\n",
      "É composto\n",
      "59\n",
      "É primo\n",
      "60\n",
      "É composto\n",
      "61\n",
      "É primo\n",
      "62\n",
      "É composto\n",
      "63\n",
      "É composto\n",
      "64\n",
      "É composto\n",
      "65\n",
      "É composto\n",
      "66\n",
      "É composto\n",
      "67\n",
      "É primo\n",
      "68\n",
      "É composto\n",
      "69\n",
      "É composto\n",
      "70\n",
      "É composto\n",
      "71\n",
      "É primo\n",
      "72\n",
      "É composto\n",
      "73\n",
      "É primo\n",
      "74\n",
      "É composto\n",
      "75\n",
      "É composto\n",
      "76\n",
      "É composto\n",
      "77\n",
      "É composto\n",
      "78\n",
      "É composto\n",
      "79\n",
      "É primo\n",
      "80\n",
      "É composto\n",
      "81\n",
      "É composto\n",
      "82\n",
      "É composto\n",
      "83\n",
      "É primo\n",
      "84\n",
      "É composto\n",
      "85\n",
      "É composto\n",
      "86\n",
      "É composto\n",
      "87\n",
      "É composto\n",
      "88\n",
      "É composto\n",
      "89\n",
      "É primo\n",
      "90\n",
      "É composto\n",
      "91\n",
      "É composto\n",
      "92\n",
      "É composto\n",
      "93\n",
      "É composto\n",
      "94\n",
      "É composto\n",
      "95\n",
      "É composto\n",
      "96\n",
      "É composto\n",
      "97\n",
      "É primo\n",
      "98\n",
      "É composto\n",
      "99\n",
      "É composto\n"
     ]
    }
   ],
   "source": [
    "divisor = 0\n",
    "for i in range(2, 100):\n",
    "    print(i)\n",
    "    for j in range(1, 100):\n",
    "        if(i % j == 0):\n",
    "            divisor+=1\n",
    "\n",
    "    if(divisor == 2):\n",
    "        print(\"É primo\")\n",
    "    if(divisor != 2):\n",
    "        print(\"É composto\")\n",
    "    divisor = 0"
   ]
  },
  {
   "cell_type": "markdown",
   "id": "c2a9e215",
   "metadata": {},
   "source": [
    "6) Escreva um programa que determine se um número é primo ou não."
   ]
  },
  {
   "cell_type": "code",
   "execution_count": 16,
   "id": "3a5cb80e",
   "metadata": {},
   "outputs": [
    {
     "name": "stdout",
     "output_type": "stream",
     "text": [
      "Insira um número2\n",
      "É primo\n"
     ]
    }
   ],
   "source": [
    "number = int(input(\"Insira um número\"))\n",
    "divisor = 0\n",
    "\n",
    "for i in range(1, 100):\n",
    "    if(number % i == 0):\n",
    "        divisor += 1\n",
    "\n",
    "if(divisor == 2):\n",
    "    print(\"É primo\")\n",
    "else:\n",
    "    print(\"Não é primo\")"
   ]
  },
  {
   "cell_type": "markdown",
   "id": "1efa79ca",
   "metadata": {},
   "source": [
    "7) Escreva um programa que simule um caixa eletrônico, solicitando ao usuário que insira o valor do saque e informando quantas notas de cada valor serão entregues (considere notas de R$ 100, R$ 50, R$ 20, R$ 10, R$ 5 e R$ 2)."
   ]
  },
  {
   "cell_type": "code",
   "execution_count": 23,
   "id": "5c00e1df",
   "metadata": {},
   "outputs": [
    {
     "name": "stdout",
     "output_type": "stream",
     "text": [
      "Insira o valor do saque: 200\n",
      "Insira quantas notas serão entregues:\n",
      "R$100,00: 1\n",
      "Falta R$ 100.0\n",
      "R$50,00: 0\n",
      "Falta R$ 100.0\n",
      "R$20,00: 2\n",
      "Falta R$ 60.0\n",
      "R$10,00: 1\n",
      "Falta R$ 50.0\n",
      "R$5,00: 4\n",
      "Falta R$ 30.0\n",
      "R$2,00: 15\n",
      "Falta R$ 0.0\n",
      "Dinheiro sacado!\n"
     ]
    }
   ],
   "source": [
    "saque = float(input(\"Insira o valor do saque: \"))\n",
    "value = 0\n",
    "\n",
    "while value != saque:\n",
    "    print(\"Insira quantas notas serão entregues:\")\n",
    "    hundred = int(input(\"R$100,00: \"))\n",
    "    value = hundred * 100 + value\n",
    "    print(\"Falta R$\", saque - value)\n",
    "    \n",
    "    fifty = int(input(\"R$50,00: \"))\n",
    "    value = fifty * 50 + value\n",
    "    print(\"Falta R$\", saque - value)\n",
    "    \n",
    "    twenty = int(input(\"R$20,00: \"))\n",
    "    value = twenty * 20 + value\n",
    "    print(\"Falta R$\", saque - value)\n",
    "    \n",
    "    ten = int(input(\"R$10,00: \"))\n",
    "    value = ten * 10 + value\n",
    "    print(\"Falta R$\", saque - value)\n",
    "    \n",
    "    five = int(input(\"R$5,00: \"))\n",
    "    value = five * 5 + value\n",
    "    print(\"Falta R$\", saque - value)\n",
    "    \n",
    "    two = int(input(\"R$2,00: \"))\n",
    "    value = two * 2 + value\n",
    "    print(\"Falta R$\", saque - value)\n",
    "    \n",
    "\n",
    "print(\"Dinheiro sacado!\")"
   ]
  },
  {
   "cell_type": "markdown",
   "id": "19691ba3",
   "metadata": {},
   "source": [
    "8) Crie um programa que calcule o IMC (Índice de Massa Corporal) de uma pessoa e forneça uma classificação com base no resultado."
   ]
  },
  {
   "cell_type": "code",
   "execution_count": 30,
   "id": "d9f97de0",
   "metadata": {},
   "outputs": [
    {
     "name": "stdout",
     "output_type": "stream",
     "text": [
      "Insira o peso: 59\n",
      "Insira a altura: 171\n",
      "20.2\n",
      "Normal\n"
     ]
    }
   ],
   "source": [
    "w = float(input(\"Insira o peso: \"))\n",
    "h = float(input(\"Insira a altura: \"))\n",
    "imc = w/h**2 * 10000\n",
    "imc = round(imc, 1)\n",
    "print(imc)\n",
    "if(imc < 18.5):\n",
    "    print(\"Magreza\")\n",
    "if(imc >= 18.5 and imc < 25):\n",
    "    print(\"Normal\")\n",
    "if(imc >= 25 and imc <= 29.9):\n",
    "    print(\"Sobrepeso\")\n",
    "if(imc >= 30 and imc <=39.9):\n",
    "    print(\"Obesidade\")\n",
    "if(imc > 40):\n",
    "    print(\"Obesidade grave\")"
   ]
  },
  {
   "cell_type": "markdown",
   "id": "b5aee392",
   "metadata": {},
   "source": [
    "9) Crie um programa que determine se um número é um número de Armstrong ou não. Um número de Armstrong é aquele que é igual à soma de seus dígitos elevados à potência do número de dígitos."
   ]
  },
  {
   "cell_type": "code",
   "execution_count": 44,
   "id": "7594dedc",
   "metadata": {},
   "outputs": [
    {
     "name": "stdout",
     "output_type": "stream",
     "text": [
      "Digite um número: 10\n",
      "1\n",
      "Não é um número de Armstrong!\n"
     ]
    }
   ],
   "source": [
    "n = str(input(\"Digite um número: \"))\n",
    "l = len(n)\n",
    "count = 0\n",
    "\n",
    "for i in n:\n",
    "    count += int(i)**l\n",
    "    \n",
    "print(count)\n",
    "\n",
    "if(count == int(n)):\n",
    "    print(count, \"é um número de Armstrong!\")\n",
    "else:\n",
    "    print(\"Não é um número de Armstrong!\")"
   ]
  },
  {
   "cell_type": "markdown",
   "id": "7628526f",
   "metadata": {},
   "source": [
    "# Variáveis compostas - Listas\n",
    "\n",
    "1) Faça um Programa que leia uma lista de 10 números reais e mostre-os na ordem inversa."
   ]
  },
  {
   "cell_type": "code",
   "execution_count": 54,
   "id": "72a43860",
   "metadata": {},
   "outputs": [
    {
     "name": "stdout",
     "output_type": "stream",
     "text": [
      "0\n",
      "Digite um número real: 1\n",
      "1\n",
      "Digite um número real: 2\n",
      "2\n",
      "Digite um número real: 3\n",
      "3\n",
      "Digite um número real: 4\n",
      "4\n",
      "Digite um número real: 5\n",
      "5\n",
      "Digite um número real: 6\n",
      "6\n",
      "Digite um número real: 7\n",
      "7\n",
      "Digite um número real: 8\n",
      "8\n",
      "Digite um número real: 9\n",
      "9\n",
      "Digite um número real: 10\n",
      "[10.0, 9.0, 8.0, 7.0, 6.0, 5.0, 4.0, 3.0, 2.0, 1.0]\n"
     ]
    }
   ],
   "source": [
    "i = 0\n",
    "r = []\n",
    "while i < 10:\n",
    "    print((i))\n",
    "    r.append(float(input(\"Digite um número real: \")))\n",
    "    i += 1\n",
    "\n",
    "r.reverse()\n",
    "print(r)"
   ]
  },
  {
   "cell_type": "markdown",
   "id": "98dcbeda",
   "metadata": {},
   "source": [
    "2) Faça um programa que leia duas listas e que gere uma terceira com os elementos das duas primeiras."
   ]
  },
  {
   "cell_type": "code",
   "execution_count": 59,
   "id": "745a5187",
   "metadata": {},
   "outputs": [
    {
     "name": "stdout",
     "output_type": "stream",
     "text": [
      "['a', 'b', 'c', 'd', 'e', 'f', 'g', 'h', 'i', 'j', 'k', 'l', 'm']\n",
      "['a', 'b', 'c', 'd', 'e', 'f', 'g', 'h', 'i', 'j', 'k', 'l', 'm']\n"
     ]
    }
   ],
   "source": [
    "l1 = ['a','b','c','d','e','f','g']\n",
    "l2 = ['h','i', 'j', 'k', 'l', 'm']\n",
    "\n",
    "l3 = l1 + l2\n",
    "print(l3)\n",
    "l1.extend(l2)\n",
    "print(l1)"
   ]
  },
  {
   "cell_type": "markdown",
   "id": "8182541c",
   "metadata": {},
   "source": [
    "3) A lista de temperaturas de Mons, na Bélgica, foi armazenada na lista T = [ -10, -8, 0, 1, 2, 5, -2, -4]. Faça um programa que imprima a menor e a maior temperatura, assim como a temperatura média."
   ]
  },
  {
   "cell_type": "code",
   "execution_count": 5,
   "id": "72d36e5c",
   "metadata": {},
   "outputs": [],
   "source": [
    "import numpy as np"
   ]
  },
  {
   "cell_type": "code",
   "execution_count": 6,
   "id": "73827615",
   "metadata": {},
   "outputs": [
    {
     "name": "stdout",
     "output_type": "stream",
     "text": [
      "Maximo:  5\n",
      "Minimo:  -10\n",
      "Média:  -2.0\n"
     ]
    }
   ],
   "source": [
    "T = [ -10, -8, 0, 1, 2, 5, -2, -4]\n",
    "print(\"Maximo: \", max(T))\n",
    "print(\"Minimo: \", min(T))\n",
    "print(\"Média: \", np.mean(T))"
   ]
  },
  {
   "cell_type": "markdown",
   "id": "0ad61ca6",
   "metadata": {},
   "source": [
    "4. Faça um Programa que leia 20 números inteiros e armazene-os num lista. Armazene os números pares na lista PAR e os números IMPARES na lista impar. Imprima os três vetores."
   ]
  },
  {
   "cell_type": "code",
   "execution_count": 3,
   "id": "f8dd9f9c",
   "metadata": {},
   "outputs": [
    {
     "name": "stdout",
     "output_type": "stream",
     "text": [
      "Insira um inteiro: 100\n",
      "Insira um inteiro: 200\n",
      "Insira um inteiro: 10\n",
      "Insira um inteiro: 20\n",
      "Insira um inteiro: 11\n",
      "Insira um inteiro: 12\n",
      "Insira um inteiro: 19\n",
      "Insira um inteiro: 17\n",
      "Insira um inteiro: 13\n",
      "Insira um inteiro: 7\n",
      "Insira um inteiro: 777\n",
      "Insira um inteiro: 1\n",
      "Insira um inteiro: 0\n",
      "Insira um inteiro: 90\n",
      "Insira um inteiro: 99\n",
      "Insira um inteiro: 91\n",
      "Insira um inteiro: 97\n",
      "Insira um inteiro: 250\n",
      "Insira um inteiro: 23\n",
      "Insira um inteiro: 93\n",
      "[100, 200, 10, 20, 11, 12, 19, 17, 13, 7, 777, 1, 0, 90, 99, 91, 97, 250, 23, 93]\n",
      "[100, 200, 10, 20, 12, 0, 90, 250]\n",
      "[11, 19, 17, 13, 7, 777, 1, 99, 91, 97, 23, 93]\n"
     ]
    }
   ],
   "source": [
    "twenty = 0\n",
    "integer = []\n",
    "par = []\n",
    "imp = []\n",
    "while twenty < 20:\n",
    "    integer.append(int(input(\"Insira um inteiro: \")))\n",
    "    if(integer[twenty] % 2 == 0):\n",
    "        par.append(integer[twenty])\n",
    "    if(integer[twenty] % 2 != 0):\n",
    "        imp.append(integer[twenty])\n",
    "    twenty += 1\n",
    "\n",
    "print(integer)\n",
    "print(par)\n",
    "print(imp)"
   ]
  },
  {
   "cell_type": "markdown",
   "id": "d2b3b3a5",
   "metadata": {},
   "source": [
    "5) Faça um Programa que peça as quatro notas de 5 alunos, calcule e armazene numa lista a média de cada aluno, imprima o número de alunos com média maior ou igual a 7.0"
   ]
  },
  {
   "cell_type": "code",
   "execution_count": 12,
   "id": "d0cb1719",
   "metadata": {},
   "outputs": [
    {
     "name": "stdout",
     "output_type": "stream",
     "text": [
      "Nota 1: 1\n",
      "Nota 2: 1\n",
      "Nota 3: 1\n",
      "Nota 4: 1\n",
      "Nota 1: 10\n",
      "Nota 2: 10\n",
      "Nota 3: 10\n",
      "Nota 4: 10\n",
      "Nota 1: 101\n",
      "Nota 2: 10\n",
      "Nota 3: 9\n",
      "Nota 4: 8\n",
      "Nota 1: 1\n",
      "Nota 2: 2\n",
      "Nota 3: 0\n",
      "Nota 4: 0\n",
      "Nota 1: 0\n",
      "Nota 2: 1\n",
      "Nota 3: 0\n",
      "Nota 4: 10\n",
      "[1.0, 5.5, 14.333333333333334, 10.9375, 9.3]\n",
      "14.333333333333334\n",
      "10.9375\n",
      "9.3\n"
     ]
    }
   ],
   "source": [
    "i = 0\n",
    "l = []\n",
    "m = []\n",
    "while i < 5:\n",
    "    l.append(int(input(\"Nota 1: \")))\n",
    "    l.append(int(input(\"Nota 2: \")))\n",
    "    l.append(int(input(\"Nota 3: \")))\n",
    "    l.append(int(input(\"Nota 4: \")))\n",
    "    m.append(np.mean(l))\n",
    "    i += 1\n",
    "\n",
    "i = 0\n",
    "print(m)\n",
    "while i < 5:\n",
    "    if(m[i] > 7):\n",
    "        print(m[i])\n",
    "    i += 1"
   ]
  },
  {
   "cell_type": "markdown",
   "id": "e7bb445a",
   "metadata": {},
   "source": [
    "6) Escreva uma rotina que recebe uma lista de números e retorna a soma dos quadrados dos números."
   ]
  },
  {
   "cell_type": "code",
   "execution_count": 15,
   "id": "35d2f24c",
   "metadata": {},
   "outputs": [
    {
     "name": "stdout",
     "output_type": "stream",
     "text": [
      "385\n"
     ]
    }
   ],
   "source": [
    "l = [1, 2, 3, 4, 5, 6, 7, 8, 9, 10]\n",
    "\n",
    "i = 0\n",
    "while i < len(l):\n",
    "    l[i] = l[i] * l[i]\n",
    "    i += 1\n",
    "    \n",
    "i = 0\n",
    "s = 0\n",
    "while i < len(l):\n",
    "    s += l[i]\n",
    "    i += 1\n",
    "\n",
    "print(s)"
   ]
  },
  {
   "cell_type": "markdown",
   "id": "06f0f4b3",
   "metadata": {},
   "source": [
    "7) Escreva uma rotina que recebe uma lista de números e retorna outra lista contendo somente os números ímpares. Utilizar list comprehension. \n",
    "\n",
    "Sintaxe da List Comprehension:\n",
    "[Out-put Collection Condition]\n",
    "[Do-this for-this-collection in-this-situation]\n",
    "[x + 1 for x in range(5) if x%2 == 2]"
   ]
  },
  {
   "cell_type": "code",
   "execution_count": 1,
   "id": "1066c9d6",
   "metadata": {},
   "outputs": [
    {
     "data": {
      "text/plain": [
       "[1, 3, 5, 7, 9]"
      ]
     },
     "execution_count": 1,
     "metadata": {},
     "output_type": "execute_result"
    }
   ],
   "source": [
    "l = [1, 2, 3, 4, 5, 6, 7, 8, 9, 10]\n",
    "\n",
    "imp = [x for x in l if x%2 == 1]\n",
    "imp"
   ]
  },
  {
   "cell_type": "markdown",
   "id": "fa6e582b",
   "metadata": {},
   "source": [
    "8) Escreva uma função que recebe uma lista de strings e retorna a string mais longa."
   ]
  },
  {
   "cell_type": "code",
   "execution_count": 5,
   "id": "94e38961",
   "metadata": {},
   "outputs": [
    {
     "name": "stdout",
     "output_type": "stream",
     "text": [
      "ei aperte esse botão\n"
     ]
    }
   ],
   "source": [
    "l = ['oi', 'oi nerrrr', 'ei aperte esse botão', 'belezz', 'beleza']\n",
    "maior = len(l[0])\n",
    "ms = l[0]\n",
    "for i in l:\n",
    "    if(len(i) > maior):\n",
    "        maior = len(i)\n",
    "        ms = i\n",
    "        \n",
    "print(ms)"
   ]
  },
  {
   "cell_type": "markdown",
   "id": "b1204196",
   "metadata": {},
   "source": [
    "1)Escreva um programa que leia duas strings. Verifique se a segunda ocorre\n",
    "dentro da primeira e imprima a posição de início.\n",
    "1a string: AABBEFAATT\n",
    "2a string: BE"
   ]
  },
  {
   "cell_type": "code",
   "execution_count": 6,
   "id": "99da9b16",
   "metadata": {},
   "outputs": [
    {
     "name": "stdout",
     "output_type": "stream",
     "text": [
      "Digite a primeira string: AABBEFAATT\n",
      "Digite a segunda string: BE\n",
      "3\n"
     ]
    }
   ],
   "source": [
    "s1 = input(\"Digite a primeira string: \")\n",
    "s2 = input(\"Digite a segunda string: \")\n",
    "\n",
    "print(s1.find(s2))"
   ]
  },
  {
   "cell_type": "markdown",
   "id": "22de3522",
   "metadata": {},
   "source": [
    "2) Escreva um programa que leia duas strings e gere uma terceira com os caracteres comuns às duas strings lidas.\n",
    "1a string: AAACTBF\n",
    "2a string: CBT"
   ]
  },
  {
   "cell_type": "code",
   "execution_count": 7,
   "id": "360a75cf",
   "metadata": {},
   "outputs": [
    {
     "name": "stdout",
     "output_type": "stream",
     "text": [
      "String 1: AAACTBF\n",
      "String 2: CBT\n"
     ]
    },
    {
     "data": {
      "text/plain": [
       "'AAACTBFCBT'"
      ]
     },
     "execution_count": 7,
     "metadata": {},
     "output_type": "execute_result"
    }
   ],
   "source": [
    "s1 = input(\"String 1: \")\n",
    "s2 = input(\"String 2: \")\n",
    "s3 = s1 + s2\n",
    "s3"
   ]
  },
  {
   "cell_type": "markdown",
   "id": "3ca13810",
   "metadata": {},
   "source": [
    "3) Escreva um programa que leia uma string e imprima quantas vezes cada caractere aparece nessa string. String: TTAAC Resultado: T: 2x A: 2x C: 1x"
   ]
  },
  {
   "cell_type": "code",
   "execution_count": 10,
   "id": "f0380d52",
   "metadata": {},
   "outputs": [
    {
     "name": "stdout",
     "output_type": "stream",
     "text": [
      "Digite uma string: TTAAC\n",
      "C : 2\n",
      "T : 2\n",
      "A : 2\n"
     ]
    }
   ],
   "source": [
    "s = input(\"Digite uma string: \")\n",
    "l = []\n",
    "for i in s:\n",
    "    l.append(s.count(i))\n",
    "    \n",
    "s = set(s) # Cria um conjunto, eliminando duplicatas\n",
    "\n",
    "for index, i in enumerate(s):\n",
    "    print(i, \":\", l[index])"
   ]
  },
  {
   "cell_type": "markdown",
   "id": "e4b0bbe7",
   "metadata": {},
   "source": [
    "4) Escreva um programa que leia três strings. Imprima o resultado da substituição na primeira, dos caracteres da segunda pelos da terceira. 1a string: AATTCGAA 2a string: TG 3a string: AC"
   ]
  },
  {
   "cell_type": "code",
   "execution_count": 12,
   "id": "fb462bf4",
   "metadata": {},
   "outputs": [
    {
     "name": "stdout",
     "output_type": "stream",
     "text": [
      "String 1: AATTCGAA\n",
      "String 2: TG\n",
      "String 3: AC\n",
      "AATTCGAA\n"
     ]
    }
   ],
   "source": [
    "s1 = input(\"String 1: \")\n",
    "s2 = input(\"String 2: \")\n",
    "s3 = input(\"String 3: \")\n",
    "\n",
    "s = s1.replace(s2, s3)\n",
    "print(s)"
   ]
  },
  {
   "cell_type": "markdown",
   "id": "ab28a866",
   "metadata": {},
   "source": [
    "5) Escreva uma função em Python que receba uma string como entrada e verifique se ela é um palíndromo."
   ]
  },
  {
   "cell_type": "code",
   "execution_count": 14,
   "id": "db80b283",
   "metadata": {},
   "outputs": [
    {
     "name": "stdout",
     "output_type": "stream",
     "text": [
      "Digite uma string: oi\n",
      "Não Palindromo\n"
     ]
    }
   ],
   "source": [
    "s = input(\"Digite uma string: \")\n",
    "invertida = s[::-1]\n",
    "\n",
    "if s == invertida:\n",
    "    print(\"Palindromo\")\n",
    "else:\n",
    "    print(\"Não Palindromo\")"
   ]
  },
  {
   "cell_type": "markdown",
   "id": "ecdb654b",
   "metadata": {},
   "source": [
    "6) Escreva uma função em Python que receba uma string como entrada e retorne a string com cada palavra em ordem inversa."
   ]
  },
  {
   "cell_type": "code",
   "execution_count": 15,
   "id": "196483da",
   "metadata": {},
   "outputs": [
    {
     "name": "stdout",
     "output_type": "stream",
     "text": [
      "Digite uma string: oi ne\n"
     ]
    },
    {
     "data": {
      "text/plain": [
       "'en io'"
      ]
     },
     "execution_count": 15,
     "metadata": {},
     "output_type": "execute_result"
    }
   ],
   "source": [
    "s = input(\"Digite uma string: \")\n",
    "invertida = s[::-1]\n",
    "invertida"
   ]
  },
  {
   "cell_type": "markdown",
   "id": "126f2acb",
   "metadata": {},
   "source": [
    "7) Escreva um programa que receba uma string e retorne apenas as palavras que possuem mais de três caracteres."
   ]
  },
  {
   "cell_type": "code",
   "execution_count": 18,
   "id": "8c540942",
   "metadata": {},
   "outputs": [
    {
     "name": "stdout",
     "output_type": "stream",
     "text": [
      "Digite uma string: oi ne fia ce ta bemm\n",
      "bemm\n"
     ]
    }
   ],
   "source": [
    "s = input(\"Digite uma string: \")\n",
    "\n",
    "f = s.split()\n",
    "\n",
    "for i in f:\n",
    "    if len(i) > 3:\n",
    "        print(i)"
   ]
  },
  {
   "cell_type": "markdown",
   "id": "34b3301a",
   "metadata": {},
   "source": [
    "# Dictionary Exercises\n",
    "\n",
    "1) Escreva um programa que gere um dicionário, onde cada chave seja um caractere, e seu valor seja o número desse caractere encontrado em uma frase lida. Exemplo: O rato -> { “O”:1, “r”:1, “a”:1, “t”:1, “o”:1}"
   ]
  },
  {
   "cell_type": "code",
   "execution_count": 3,
   "id": "594a4a54",
   "metadata": {},
   "outputs": [
    {
     "data": {
      "text/plain": [
       "{'o': 1, 't': 1, 'a': 1, 'r': 1, 'O': 1}"
      ]
     },
     "execution_count": 3,
     "metadata": {},
     "output_type": "execute_result"
    }
   ],
   "source": [
    "c = 'O rato'\n",
    "c = c.replace(' ', '')\n",
    "l = set(c)\n",
    "d = {}\n",
    "for i in l:\n",
    "    d[i] = c.count(i)\n",
    "d"
   ]
  },
  {
   "cell_type": "markdown",
   "id": "1cd3313b",
   "metadata": {},
   "source": [
    "2) Crie um dicionário, chamado frutas, de frutas e seus preços.\n",
    "    a. Crie um segundo dicionário chamado compras na qual as\n",
    "chaves são as frutas e valores é a quantidade a ser comprada\n",
    "    b. Calcule o preço total de um carrinho de compras de frutas\n",
    "usando o dicionário criado no exercício anterior.\n",
    "    c. Remova todas as frutas do dicionário de frutas que custam\n",
    "mais de R$ 5,00."
   ]
  },
  {
   "cell_type": "code",
   "execution_count": 14,
   "id": "bf0b4f61",
   "metadata": {},
   "outputs": [
    {
     "data": {
      "text/plain": [
       "138"
      ]
     },
     "execution_count": 14,
     "metadata": {},
     "output_type": "execute_result"
    }
   ],
   "source": [
    "frutas = {'Maçã':127, 'Banana':138, 'Pera':337} # key-value = frutas-preços\n",
    "frutas['Banana']"
   ]
  },
  {
   "cell_type": "code",
   "execution_count": 15,
   "id": "3091b6fd",
   "metadata": {},
   "outputs": [
    {
     "data": {
      "text/plain": [
       "{'Maçã': 23, 'Banana': 12, 'Pera': 5}"
      ]
     },
     "execution_count": 15,
     "metadata": {},
     "output_type": "execute_result"
    }
   ],
   "source": [
    "# exercicio a:\n",
    "compras = {'Maçã':23, 'Banana': 12, 'Pera': 5} # key-value = frutas-quantidade\n",
    "compras"
   ]
  },
  {
   "cell_type": "code",
   "execution_count": 16,
   "id": "9de933c3",
   "metadata": {},
   "outputs": [
    {
     "name": "stdout",
     "output_type": "stream",
     "text": [
      "Maçã\n",
      "Banana\n",
      "Pera\n"
     ]
    }
   ],
   "source": [
    "for i in frutas:\n",
    "    Compras[i]\n"
   ]
  },
  {
   "cell_type": "markdown",
   "id": "a2663bb1",
   "metadata": {},
   "source": [
    "3) Faça um programa que leia o nome RA e média final de uma aluno.\n",
    "Armazene todas as informações num dicionário. No final programa\n",
    "deve imprimir as informações do dicionário e situação do aluno\n",
    "(reprovado, exame ou aprovado). Utilize as regras da UNIFESP\n",
    "para definir a situação do aluno."
   ]
  },
  {
   "cell_type": "code",
   "execution_count": 1,
   "id": "37dd6468",
   "metadata": {},
   "outputs": [
    {
     "name": "stdout",
     "output_type": "stream",
     "text": [
      "Digite o Nome: Harrison\n",
      "Digite o RA: 156264\n",
      "Digite a média final: 10\n",
      "{'Nome': 'Harrison', 'RA': '156264', 'Média final': 10.0}\n",
      "Aprovado\n"
     ]
    }
   ],
   "source": [
    "name = input(\"Digite o Nome: \")\n",
    "ra = input(\"Digite o RA: \")\n",
    "mF = float(input(\"Digite a média final: \"))\n",
    "d = {'Nome':name, 'RA':ra, 'Média final':mF}\n",
    "print(d)\n",
    "\n",
    "if(mF >= 6):\n",
    "    print(\"Aprovado\")\n",
    "if(mF >= 3 and mF < 6):\n",
    "    print(\"Exame\")\n",
    "if(mF < 3):\n",
    "    print(\"Reprovado\")"
   ]
  },
  {
   "cell_type": "markdown",
   "id": "f1da6a98",
   "metadata": {},
   "source": [
    "4) Crie um programa que leia nome, sexo, peso e altura de várias\n",
    "pessoas. guarde os dados de cada pessoa num dicionário\n",
    "individual e acrescente o IMC da pessoa. Organize todos os\n",
    "dicionários em uma lista. No final mostre\n",
    "a. Quantas pessoas foram cadastradas\n",
    "b. Qual é o peso médio das pessoas\n",
    "c. Qual é a altura média das pessoas\n",
    "d. Qual é IMC médio das pessoas"
   ]
  },
  {
   "cell_type": "code",
   "execution_count": 3,
   "id": "cf14e200",
   "metadata": {},
   "outputs": [
    {
     "name": "stdout",
     "output_type": "stream",
     "text": [
      "Digite quantas pessoas: 2\n",
      "Digite o nome: H\n",
      "Digite o sexo: k\n",
      "Digite o peso: 10\n",
      "Digite a altura: 10\n",
      "Digite o nome: oi\n",
      "Digite o sexo: ne\n",
      "Digite o peso: 20\n",
      "Digite a altura: 30\n",
      "[{'Nome': 'H', 'Sexo': 'k', 'Peso': 10.0, 'Altura': 10}, {'Nome': 'oi', 'Sexo': 'ne', 'Peso': 20.0, 'Altura': 30}]\n",
      "Quantidade de cadastrados:  2\n",
      "Peso médio das pessoas:  15.0\n",
      "Altura média das pessoas:  20.0\n"
     ]
    }
   ],
   "source": [
    "l = []\n",
    "n = int(input(\"Digite quantas pessoas: \"))\n",
    "i = 0\n",
    "\n",
    "while i < n:\n",
    "    name = input(\"Digite o nome: \")\n",
    "    sex = input(\"Digite o sexo: \")\n",
    "    weight = float(input(\"Digite o peso: \"))\n",
    "    height = int(input(\"Digite a altura: \"))\n",
    "\n",
    "    d = {}\n",
    "    d['Nome'] = name\n",
    "    d['Sexo'] = sex\n",
    "    d['Peso'] = weight\n",
    "    d['Altura'] = height\n",
    "    l.append(d)\n",
    "    i += 1\n",
    "\n",
    "print(l)\n",
    "print(\"Quantidade de cadastrados: \", len(l))\n",
    "\n",
    "weight = 0\n",
    "for i in l:\n",
    "    weight += i['Peso']\n",
    "    \n",
    "print(\"Peso médio das pessoas: \", weight/len(l))\n",
    "\n",
    "height = 0\n",
    "for i in l:\n",
    "    height += i['Altura']\n",
    "    \n",
    "print(\"Altura média das pessoas: \", height/len(l))"
   ]
  },
  {
   "cell_type": "markdown",
   "id": "2a26dd54",
   "metadata": {},
   "source": [
    "5) Escreva um programa para agrupar uma lista de dicionários por\n",
    "uma chave específica"
   ]
  },
  {
   "cell_type": "markdown",
   "id": "69e5dbc8",
   "metadata": {},
   "source": [
    "6) Escreva um programa para verificar se uma chave específica existe\n",
    "no dicionário ou não."
   ]
  },
  {
   "cell_type": "code",
   "execution_count": 13,
   "id": "f95e5ff5",
   "metadata": {},
   "outputs": [
    {
     "name": "stdout",
     "output_type": "stream",
     "text": [
      "Digite a chave: Média final\n",
      "Está na lista\n"
     ]
    }
   ],
   "source": [
    "d = {'Nome':name, 'RA':ra, 'Média final':mF}\n",
    "s = input(\"Digite a chave: \")\n",
    "n = 0\n",
    "for i in d:\n",
    "    if i == s:\n",
    "        print(\"Está na lista\")\n",
    "    else:\n",
    "        n += 1\n",
    "        \n",
    "if n == len(d):\n",
    "    print(\"Não está na lista\")"
   ]
  },
  {
   "cell_type": "markdown",
   "id": "80452f29",
   "metadata": {},
   "source": [
    "7) Escreva um programa para criar um set de todos os caracteres\n",
    "únicos em uma string."
   ]
  },
  {
   "cell_type": "code",
   "execution_count": 32,
   "id": "5dcd751c",
   "metadata": {},
   "outputs": [
    {
     "name": "stdout",
     "output_type": "stream",
     "text": [
      "Digite uma frase: oi tudo bem com voce\n",
      "{'t', 'u', 'b', 'v', 'i', 'd'}\n"
     ]
    }
   ],
   "source": [
    "s = input(\"Digite uma frase: \")\n",
    "\n",
    "for i in s:\n",
    "    if s.count(i) > 1:\n",
    "        removable = s.count(i)\n",
    "        j = 0\n",
    "        while j < removable:\n",
    "            s = s.replace(i, ' ')\n",
    "            s = s.replace(' ', '')\n",
    "            j += 1\n",
    "            \n",
    "s = set(s)\n",
    "print(s)"
   ]
  },
  {
   "cell_type": "markdown",
   "id": "ab6af153",
   "metadata": {},
   "source": [
    "8) Crie um programa que gerencia o aproveitamento de um jogador\n",
    "de futebol. o programa vai ler o nome do jogador e quantas\n",
    "partidas ele jogou. Depois vai ler a quantidade de gols feitos em\n",
    "cada partida. No final, tudo isso será guardado em um dicionário\n",
    "incluindo o total de gols realizados durante o campeonato"
   ]
  },
  {
   "cell_type": "markdown",
   "id": "96033e6a",
   "metadata": {},
   "source": [
    "## Numpy"
   ]
  },
  {
   "cell_type": "code",
   "execution_count": 1,
   "id": "7d0c1fda",
   "metadata": {},
   "outputs": [],
   "source": [
    "import numpy as np"
   ]
  },
  {
   "cell_type": "markdown",
   "id": "4533e973",
   "metadata": {},
   "source": [
    "1. Crie um array unidimensional com valores aleatórios e imprima o valor médio e a mediana."
   ]
  },
  {
   "cell_type": "code",
   "execution_count": 10,
   "id": "163307ea",
   "metadata": {},
   "outputs": [
    {
     "name": "stdout",
     "output_type": "stream",
     "text": [
      "[[7 9 4 3 8 8 8 1 2 5]]\n",
      "5.5\n",
      "6.0\n"
     ]
    }
   ],
   "source": [
    "l = np.random.randint(1, 10, (1, 10))\n",
    "print(l)\n",
    "print(l.mean())\n",
    "# mediana ordena o array e faz a media dos dois do meio se for par\n",
    "print(np.median(l))"
   ]
  },
  {
   "cell_type": "markdown",
   "id": "18c43075",
   "metadata": {},
   "source": [
    "2- Crie um array unidimensional com valores aleatórios e inverta a\n",
    "ordem dos elementos."
   ]
  },
  {
   "cell_type": "code",
   "execution_count": 15,
   "id": "2f66c6fe",
   "metadata": {},
   "outputs": [
    {
     "name": "stdout",
     "output_type": "stream",
     "text": [
      "[[8 5 5 5 7 6 8 4 8 7]]\n"
     ]
    },
    {
     "data": {
      "text/plain": [
       "array([[7, 8, 4, 8, 6, 7, 5, 5, 5, 8]])"
      ]
     },
     "execution_count": 15,
     "metadata": {},
     "output_type": "execute_result"
    }
   ],
   "source": [
    "l = np.random.randint(1,10, (1,10))\n",
    "print(l)\n",
    "np.flip(l)"
   ]
  },
  {
   "cell_type": "markdown",
   "id": "7c8fabf0",
   "metadata": {},
   "source": [
    "3- Crie um array unidimensional com valores aleatórios e calcule a\n",
    "diferença entre cada elemento e o próximo elemento."
   ]
  },
  {
   "cell_type": "code",
   "execution_count": 39,
   "id": "d756ddd7",
   "metadata": {},
   "outputs": [
    {
     "name": "stdout",
     "output_type": "stream",
     "text": [
      "[[2 2 2 2 7 5 3 5 6 9]]\n"
     ]
    },
    {
     "data": {
      "text/plain": [
       "[0, 0, 0, -5, 2, 2, -2, -1, -3, 9]"
      ]
     },
     "execution_count": 39,
     "metadata": {},
     "output_type": "execute_result"
    }
   ],
   "source": [
    "l = np.random.randint(1,10, (1,10))\n",
    "a = []\n",
    "print(l)\n",
    "for j in range(0, 10):\n",
    "    if(j < 10 - 1):\n",
    "        a.append(l[0][j] - l[0][j + 1])\n",
    "    if j == 9:\n",
    "        a.append(l[0][9])\n",
    "a"
   ]
  },
  {
   "cell_type": "markdown",
   "id": "8012baf2",
   "metadata": {},
   "source": [
    "4- Crie uma matriz de zeros de tamanho 10x10 e adicione uma borda de\n",
    "valor 1."
   ]
  },
  {
   "cell_type": "code",
   "execution_count": 33,
   "id": "944a2cf6",
   "metadata": {},
   "outputs": [
    {
     "data": {
      "text/plain": [
       "array([[0., 0., 0., 0., 0., 0., 0., 0., 0., 0.],\n",
       "       [0., 0., 0., 0., 0., 0., 0., 0., 0., 0.],\n",
       "       [0., 0., 0., 0., 0., 0., 0., 0., 0., 0.],\n",
       "       [0., 0., 0., 0., 0., 0., 0., 0., 0., 0.],\n",
       "       [0., 0., 0., 0., 0., 0., 0., 0., 0., 0.],\n",
       "       [0., 0., 0., 0., 0., 0., 0., 0., 0., 0.],\n",
       "       [0., 0., 0., 0., 0., 0., 0., 0., 0., 0.],\n",
       "       [0., 0., 0., 0., 0., 0., 0., 0., 0., 0.],\n",
       "       [0., 0., 0., 0., 0., 0., 0., 0., 0., 0.],\n",
       "       [0., 0., 0., 0., 0., 0., 0., 0., 0., 0.]])"
      ]
     },
     "execution_count": 33,
     "metadata": {},
     "output_type": "execute_result"
    }
   ],
   "source": [
    "l = np.zeros([10,10])\n",
    "l"
   ]
  },
  {
   "cell_type": "markdown",
   "id": "43203132",
   "metadata": {},
   "source": [
    "5- Crie um array unidimensional com valores aleatórios e encontre o\n",
    "índice do valor mais próximo de um valor fornecido"
   ]
  },
  {
   "cell_type": "code",
   "execution_count": 44,
   "id": "78eb6e2e",
   "metadata": {},
   "outputs": [
    {
     "name": "stdout",
     "output_type": "stream",
     "text": [
      "Digite um valor de 0 a 10 para aproximar: 5\n",
      "[[7.94378071 5.61879902 8.40167575 8.66866927 7.18676721 8.97402363\n",
      "  3.49639435 7.30193671 5.77198265 9.75744672]]\n",
      "9\n"
     ]
    }
   ],
   "source": [
    "forn = int(input(\"Digite um valor de 0 a 10 para aproximar: \"))\n",
    "l = 10 * np.random.rand(1, 10)\n",
    "achieved = 0\n",
    "min_n = l[0][0]\n",
    "max_n = l[0][0]\n",
    "\n",
    "for j in range(0, 10):\n",
    "    if round(l[0][j]) == forn:\n",
    "        achieved = 1\n",
    "        \n",
    "    if min_n > l[0][0]:\n",
    "        \n",
    "    if max_n > l[0][0]:\n",
    "        \n",
    "    if min_n - max_n >= 0:\n",
    "        \n",
    "    if min_n - max_n < 0:\n",
    "    \n",
    "    if achieved == 1:\n",
    "        break;\n",
    "\n",
    "print(l)\n",
    "print(j)\n",
    "    "
   ]
  },
  {
   "cell_type": "markdown",
   "id": "a48c679d",
   "metadata": {},
   "source": [
    "6- Crie um array unidimensional com valores aleatórios e encontre os\n",
    "valores únicos e suas contagens."
   ]
  }
 ],
 "metadata": {
  "kernelspec": {
   "display_name": "Python 3 (ipykernel)",
   "language": "python",
   "name": "python3"
  },
  "language_info": {
   "codemirror_mode": {
    "name": "ipython",
    "version": 3
   },
   "file_extension": ".py",
   "mimetype": "text/x-python",
   "name": "python",
   "nbconvert_exporter": "python",
   "pygments_lexer": "ipython3",
   "version": "3.11.5"
  }
 },
 "nbformat": 4,
 "nbformat_minor": 5
}
