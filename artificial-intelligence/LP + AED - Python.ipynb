{
 "cells": [
  {
   "cell_type": "markdown",
   "id": "84c13312",
   "metadata": {},
   "source": [
    "### Tuplas\n",
    "\n",
    "São vetores imutaveis"
   ]
  },
  {
   "cell_type": "code",
   "execution_count": 1,
   "id": "1434bec8",
   "metadata": {},
   "outputs": [],
   "source": [
    "t = ('thiago', 'maria')"
   ]
  },
  {
   "cell_type": "code",
   "execution_count": 2,
   "id": "60c91e97",
   "metadata": {},
   "outputs": [
    {
     "data": {
      "text/plain": [
       "'thiago'"
      ]
     },
     "execution_count": 2,
     "metadata": {},
     "output_type": "execute_result"
    }
   ],
   "source": [
    "t[0]"
   ]
  },
  {
   "cell_type": "code",
   "execution_count": 3,
   "id": "f2cfb665",
   "metadata": {},
   "outputs": [
    {
     "data": {
      "text/plain": [
       "'maria'"
      ]
     },
     "execution_count": 3,
     "metadata": {},
     "output_type": "execute_result"
    }
   ],
   "source": [
    "t[1]"
   ]
  },
  {
   "cell_type": "markdown",
   "id": "06698608",
   "metadata": {},
   "source": [
    "### Listas\n",
    "\n",
    "Listas são vetores mutáveis"
   ]
  },
  {
   "cell_type": "code",
   "execution_count": 4,
   "id": "7c2f2074",
   "metadata": {},
   "outputs": [],
   "source": [
    "t = ['thiago', 'maria']"
   ]
  },
  {
   "cell_type": "code",
   "execution_count": 7,
   "id": "3e32b746",
   "metadata": {},
   "outputs": [
    {
     "data": {
      "text/plain": [
       "'thiago maria'"
      ]
     },
     "execution_count": 7,
     "metadata": {},
     "output_type": "execute_result"
    }
   ],
   "source": [
    "t[0] + ' ' + t[1]"
   ]
  },
  {
   "cell_type": "code",
   "execution_count": 11,
   "id": "658bbac2",
   "metadata": {},
   "outputs": [],
   "source": [
    "a,b = t"
   ]
  },
  {
   "cell_type": "code",
   "execution_count": 9,
   "id": "5c1afc3e",
   "metadata": {},
   "outputs": [
    {
     "data": {
      "text/plain": [
       "'thiago'"
      ]
     },
     "execution_count": 9,
     "metadata": {},
     "output_type": "execute_result"
    }
   ],
   "source": [
    "a"
   ]
  },
  {
   "cell_type": "code",
   "execution_count": 10,
   "id": "016431c3",
   "metadata": {},
   "outputs": [
    {
     "data": {
      "text/plain": [
       "'maria'"
      ]
     },
     "execution_count": 10,
     "metadata": {},
     "output_type": "execute_result"
    }
   ],
   "source": [
    "b"
   ]
  },
  {
   "cell_type": "markdown",
   "id": "21f2aeaf",
   "metadata": {},
   "source": [
    "O que está depois do ponto é o passo. O que está a esquerda é o início."
   ]
  },
  {
   "cell_type": "code",
   "execution_count": 12,
   "id": "42d455e1",
   "metadata": {},
   "outputs": [
    {
     "data": {
      "text/plain": [
       "['thiago', 'maria']"
      ]
     },
     "execution_count": 12,
     "metadata": {},
     "output_type": "execute_result"
    }
   ],
   "source": [
    "t[0:2]"
   ]
  },
  {
   "cell_type": "code",
   "execution_count": 13,
   "id": "e2623e2a",
   "metadata": {},
   "outputs": [
    {
     "data": {
      "text/plain": [
       "['thiago']"
      ]
     },
     "execution_count": 13,
     "metadata": {},
     "output_type": "execute_result"
    }
   ],
   "source": [
    "t[0:1]"
   ]
  },
  {
   "cell_type": "code",
   "execution_count": 14,
   "id": "18f83b96",
   "metadata": {},
   "outputs": [
    {
     "data": {
      "text/plain": [
       "[]"
      ]
     },
     "execution_count": 14,
     "metadata": {},
     "output_type": "execute_result"
    }
   ],
   "source": [
    "t[1:1]"
   ]
  },
  {
   "cell_type": "code",
   "execution_count": 15,
   "id": "8b09bbec",
   "metadata": {},
   "outputs": [
    {
     "data": {
      "text/plain": [
       "['maria']"
      ]
     },
     "execution_count": 15,
     "metadata": {},
     "output_type": "execute_result"
    }
   ],
   "source": [
    "t[1:2]"
   ]
  },
  {
   "cell_type": "markdown",
   "id": "633b72b1",
   "metadata": {},
   "source": [
    "Apontando para uma mesma posição de memória por diferentes variáveis. Observe:"
   ]
  },
  {
   "cell_type": "code",
   "execution_count": 16,
   "id": "4e539f77",
   "metadata": {},
   "outputs": [
    {
     "data": {
      "text/plain": [
       "['thiago', 'maria']"
      ]
     },
     "execution_count": 16,
     "metadata": {},
     "output_type": "execute_result"
    }
   ],
   "source": [
    "l = t\n",
    "l"
   ]
  },
  {
   "cell_type": "code",
   "execution_count": 17,
   "id": "2e4a3359",
   "metadata": {},
   "outputs": [],
   "source": [
    "l = t[::]"
   ]
  },
  {
   "cell_type": "code",
   "execution_count": 18,
   "id": "fd6531b1",
   "metadata": {},
   "outputs": [
    {
     "data": {
      "text/plain": [
       "['alterei', 'maria']"
      ]
     },
     "execution_count": 18,
     "metadata": {},
     "output_type": "execute_result"
    }
   ],
   "source": [
    "t[0] = 'alterei'\n",
    "t"
   ]
  },
  {
   "cell_type": "code",
   "execution_count": 19,
   "id": "6f385d98",
   "metadata": {},
   "outputs": [
    {
     "data": {
      "text/plain": [
       "['thiago', 'maria']"
      ]
     },
     "execution_count": 19,
     "metadata": {},
     "output_type": "execute_result"
    }
   ],
   "source": [
    "l"
   ]
  },
  {
   "cell_type": "markdown",
   "id": "474993c1",
   "metadata": {},
   "source": [
    "### Métodos de lista\n",
    "\n",
    "append() - adicionar no fim\n",
    "count() - contar\n",
    "insert() - inserir em alguma posição especifica\n",
    "pop() - remover elemento de uma posição especificada O(1)\n",
    "remove() - remover um item com característica especificada O(n)\n",
    "\n",
    "### Percorrer lista"
   ]
  },
  {
   "cell_type": "code",
   "execution_count": 20,
   "id": "29a2e6f0",
   "metadata": {},
   "outputs": [
    {
     "name": "stdout",
     "output_type": "stream",
     "text": [
      "thiago\n",
      "maria\n"
     ]
    }
   ],
   "source": [
    "for p in l:\n",
    "    print(p)"
   ]
  },
  {
   "cell_type": "code",
   "execution_count": 26,
   "id": "0e64bbe3",
   "metadata": {},
   "outputs": [
    {
     "name": "stdout",
     "output_type": "stream",
     "text": [
      "0   thiago\n",
      "1   maria\n"
     ]
    }
   ],
   "source": [
    "for k, i in enumerate(l):\n",
    "    print(k, ' ' ,i)"
   ]
  },
  {
   "cell_type": "markdown",
   "id": "85273d77",
   "metadata": {},
   "source": [
    "### List Comprehension\n",
    "\n",
    "É um meio de criar listas com base em outras por meio de uma sintaxe simplificada.\n",
    "\n",
    "Por exemplo, quero construir uma lista de maçãs com base na lista de frutas."
   ]
  },
  {
   "cell_type": "code",
   "execution_count": 27,
   "id": "8440153f",
   "metadata": {},
   "outputs": [],
   "source": [
    "pares = [i for i in range(1, 20) if(i%2 == 0)]"
   ]
  },
  {
   "cell_type": "code",
   "execution_count": 28,
   "id": "2977ef0c",
   "metadata": {},
   "outputs": [
    {
     "data": {
      "text/plain": [
       "[2, 4, 6, 8, 10, 12, 14, 16, 18]"
      ]
     },
     "execution_count": 28,
     "metadata": {},
     "output_type": "execute_result"
    }
   ],
   "source": [
    "pares"
   ]
  },
  {
   "cell_type": "markdown",
   "id": "f5e0eb59",
   "metadata": {},
   "source": [
    "### Dicionários\n",
    "\n",
    "É outro tipo de variável composta, como é a lista e tupla. São estruturas que são mutáveis e indexáveis por chave(string) no par key-value. "
   ]
  },
  {
   "cell_type": "code",
   "execution_count": 2,
   "id": "26edfbed",
   "metadata": {},
   "outputs": [
    {
     "name": "stdout",
     "output_type": "stream",
     "text": [
      "{'nome': 'thiago', 'tel': 12997511216}\n",
      "thiago\n"
     ]
    }
   ],
   "source": [
    "contato = {'nome':'thiago', 'tel':12997511216}\n",
    "\n",
    "# busca da lista toda\n",
    "print(contato)\n",
    "\n",
    "# busca pela chave\n",
    "print(contato['nome'])"
   ]
  },
  {
   "cell_type": "code",
   "execution_count": 4,
   "id": "023f0630",
   "metadata": {},
   "outputs": [
    {
     "data": {
      "text/plain": [
       "{'nome': 'harrison', 'tel': 12997511216}"
      ]
     },
     "execution_count": 4,
     "metadata": {},
     "output_type": "execute_result"
    }
   ],
   "source": [
    "contato['nome'] = 'harrison'\n",
    "contato"
   ]
  },
  {
   "cell_type": "code",
   "execution_count": 5,
   "id": "fa300e41",
   "metadata": {},
   "outputs": [
    {
     "data": {
      "text/plain": [
       "dict_keys(['nome', 'tel', 'email'])"
      ]
     },
     "execution_count": 5,
     "metadata": {},
     "output_type": "execute_result"
    }
   ],
   "source": [
    "contato['email'] = 'h.candido20@unifesp.br'\n",
    "\n",
    "# retorna todas as chaves\n",
    "contato.keys()"
   ]
  },
  {
   "cell_type": "code",
   "execution_count": 6,
   "id": "bcbe4a4c",
   "metadata": {},
   "outputs": [
    {
     "data": {
      "text/plain": [
       "dict_values(['harrison', 12997511216, 'h.candido20@unifesp.br'])"
      ]
     },
     "execution_count": 6,
     "metadata": {},
     "output_type": "execute_result"
    }
   ],
   "source": [
    "# retorna todos os valores\n",
    "contato.values()"
   ]
  },
  {
   "cell_type": "code",
   "execution_count": 7,
   "id": "6a461d4c",
   "metadata": {},
   "outputs": [
    {
     "data": {
      "text/plain": [
       "dict_items([('nome', 'harrison'), ('tel', 12997511216), ('email', 'h.candido20@unifesp.br')])"
      ]
     },
     "execution_count": 7,
     "metadata": {},
     "output_type": "execute_result"
    }
   ],
   "source": [
    "# mostra todos os pares key-value\n",
    "contato.items()"
   ]
  },
  {
   "cell_type": "code",
   "execution_count": 8,
   "id": "1b5b8741",
   "metadata": {},
   "outputs": [
    {
     "data": {
      "text/plain": [
       "'h.candido20@unifesp.br'"
      ]
     },
     "execution_count": 8,
     "metadata": {},
     "output_type": "execute_result"
    }
   ],
   "source": [
    "contato.pop('email')"
   ]
  },
  {
   "cell_type": "code",
   "execution_count": 9,
   "id": "d3aba399",
   "metadata": {},
   "outputs": [
    {
     "data": {
      "text/plain": [
       "{'nome': 'harrison', 'tel': 12997511216}"
      ]
     },
     "execution_count": 9,
     "metadata": {},
     "output_type": "execute_result"
    }
   ],
   "source": [
    "contato"
   ]
  },
  {
   "cell_type": "code",
   "execution_count": 11,
   "id": "5e3e77a5",
   "metadata": {},
   "outputs": [
    {
     "name": "stdout",
     "output_type": "stream",
     "text": [
      "nome   harrison\n",
      "tel   12997511216\n"
     ]
    }
   ],
   "source": [
    "for i in contato:\n",
    "    print(i, ' ', contato[i])"
   ]
  },
  {
   "cell_type": "code",
   "execution_count": 12,
   "id": "d061cab5",
   "metadata": {},
   "outputs": [
    {
     "name": "stdout",
     "output_type": "stream",
     "text": [
      "harrison\n",
      "12997511216\n"
     ]
    }
   ],
   "source": [
    "for i in contato.values():\n",
    "    print(i)"
   ]
  },
  {
   "cell_type": "markdown",
   "id": "25d1af67",
   "metadata": {},
   "source": [
    "### Conjunto\n",
    "\n",
    "Podem ser definidos a partir de strings e listas."
   ]
  },
  {
   "cell_type": "code",
   "execution_count": 13,
   "id": "9335de69",
   "metadata": {},
   "outputs": [
    {
     "name": "stdout",
     "output_type": "stream",
     "text": [
      "{1, 2, 3, 4, 5, 66, 7, 8}\n",
      "{'t', 'd', 'i', 'u', ' ', 'q', 'm', 'r', 'a', 'e', 'j', 'o'}\n"
     ]
    }
   ],
   "source": [
    "l = [1,1,2,3,4,5,66,7,8]\n",
    "\n",
    "# formo um conjunto sem repetições de elementos da lista\n",
    "print(set(l))\n",
    "\n",
    "f = 'o rato roeu o quejo do rei de roma'\n",
    "\n",
    "# formo um conjunto com todos os caracteres da string\n",
    "print(set(f))"
   ]
  },
  {
   "cell_type": "code",
   "execution_count": 17,
   "id": "72093cee",
   "metadata": {},
   "outputs": [],
   "source": [
    "# união de conjuntos\n",
    "f = [1,2,3,4,5,5,6,6,7,7]\n",
    "f = set(f)\n",
    "l = set(l)\n",
    "ll = l|f"
   ]
  },
  {
   "cell_type": "code",
   "execution_count": 18,
   "id": "38135d80",
   "metadata": {},
   "outputs": [
    {
     "name": "stdout",
     "output_type": "stream",
     "text": [
      "{1, 2, 3, 4, 5, 66, 7, 8, 6}\n"
     ]
    }
   ],
   "source": [
    "print(ll)"
   ]
  },
  {
   "cell_type": "code",
   "execution_count": 19,
   "id": "7af2e725",
   "metadata": {},
   "outputs": [
    {
     "name": "stdout",
     "output_type": "stream",
     "text": [
      "{1, 2, 3, 4, 5, 7}\n"
     ]
    }
   ],
   "source": [
    "i = l&f\n",
    "print(i)"
   ]
  },
  {
   "cell_type": "code",
   "execution_count": 20,
   "id": "797aa7f7",
   "metadata": {},
   "outputs": [
    {
     "ename": "SyntaxError",
     "evalue": "invalid syntax (999635243.py, line 3)",
     "output_type": "error",
     "traceback": [
      "\u001b[0;36m  Cell \u001b[0;32mIn[20], line 3\u001b[0;36m\u001b[0m\n\u001b[0;31m    freq = [i:x for i in l]\u001b[0m\n\u001b[0m             ^\u001b[0m\n\u001b[0;31mSyntaxError\u001b[0m\u001b[0;31m:\u001b[0m invalid syntax\n"
     ]
    }
   ],
   "source": [
    "# dict comprehension\n",
    "\n",
    "freq = [i:x for i in l]\n",
    "freq"
   ]
  },
  {
   "cell_type": "markdown",
   "id": "2eed4d18",
   "metadata": {},
   "source": [
    "## NumPy\n",
    "\n",
    "É uma biblioteca para trabalhar com grandes matrizes e vetores multidimensionais. Também fornece funções para operar sobre essas estruturas."
   ]
  }
 ],
 "metadata": {
  "kernelspec": {
   "display_name": "Python 3 (ipykernel)",
   "language": "python",
   "name": "python3"
  },
  "language_info": {
   "codemirror_mode": {
    "name": "ipython",
    "version": 3
   },
   "file_extension": ".py",
   "mimetype": "text/x-python",
   "name": "python",
   "nbconvert_exporter": "python",
   "pygments_lexer": "ipython3",
   "version": "3.11.5"
  }
 },
 "nbformat": 4,
 "nbformat_minor": 5
}
